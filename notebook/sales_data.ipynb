{
 "cells": [
  {
   "cell_type": "code",
   "execution_count": 1,
   "metadata": {},
   "outputs": [],
   "source": [
    "import sys\n",
    "import os\n",
    "from sqlalchemy import text\n",
    "import pandas as pd\n",
    "# Menambahkan folder project ke sys.path\n",
    "sys.path.append(os.path.abspath(os.path.join('..')))\n",
    "from src.helper.db_connector_sales_data_raw import postgres_engine_sales_data\n",
    "from src.helper.validations_module import validation_process \n",
    "# Menggunakan fungsi\n",
    "engine = postgres_engine_sales_data()\n",
    "data_name = 'sales_data'\n"
   ]
  },
  {
   "cell_type": "code",
   "execution_count": 3,
   "metadata": {},
   "outputs": [
    {
     "name": "stdout",
     "output_type": "stream",
     "text": [
      "Koneksi berhasil dan data berhasil di-load:\n",
      "                                                     name     main_category  \\\n",
      "0       Aahwan Women's & Girls' Solid Basic Super Crop...  women's clothing   \n",
      "1       Fabme Unisex's Cold Weather Headband (PO2-ACC0...  sports & fitness   \n",
      "2       Men's Fashion Sneakers Lace-Up Trainers Basket...       men's shoes   \n",
      "3       HISTORICAL INDIA - Gwalior Collection - ½ Anna...  women's clothing   \n",
      "4       Sonata Act Safety Watch Analog White Dial Wome...       accessories   \n",
      "...                                                   ...               ...   \n",
      "100887  LORENZ Analogue Black Dial Men's Watch -Combo ...            stores   \n",
      "100888                 Campus Men's Rampage Running Shoes       men's shoes   \n",
      "100889  Sri Jagdamba Pearls 22KT Yellow Gold Chain for...       accessories   \n",
      "100890           mitushi products Boys One Piece Swimsuit     kids' fashion   \n",
      "100891  Gold Look Women's Maid Roleplay Costume with H...  women's clothing   \n",
      "\n",
      "                          sub_category  \\\n",
      "0                         Western Wear   \n",
      "1       All Sports, Fitness & Outdoors   \n",
      "2                         Casual Shoes   \n",
      "3                             Clothing   \n",
      "4                              Watches   \n",
      "...                                ...   \n",
      "100887                   Men's Fashion   \n",
      "100888                    Sports Shoes   \n",
      "100889        Gold & Diamond Jewellery   \n",
      "100890                   Kids' Fashion   \n",
      "100891            Lingerie & Nightwear   \n",
      "\n",
      "                                                    image  \\\n",
      "0       https://m.media-amazon.com/images/I/61Ou9rolop...   \n",
      "1       https://m.media-amazon.com/images/I/81LVOS343V...   \n",
      "2       https://m.media-amazon.com/images/I/71sCueaM0-...   \n",
      "3       https://m.media-amazon.com/images/I/91N6W7gYl3...   \n",
      "4       https://m.media-amazon.com/images/I/81sf24RFnD...   \n",
      "...                                                   ...   \n",
      "100887  https://m.media-amazon.com/images/I/71BEdDAGaI...   \n",
      "100888  https://m.media-amazon.com/images/I/71cVJlYVkA...   \n",
      "100889  https://m.media-amazon.com/images/W/IMAGERENDE...   \n",
      "100890  https://m.media-amazon.com/images/W/IMAGERENDE...   \n",
      "100891  https://m.media-amazon.com/images/W/IMAGERENDE...   \n",
      "\n",
      "                                                     link ratings  \\\n",
      "0       https://www.amazon.in/Aahwan-Cropped-Without-W...    None   \n",
      "1       https://www.amazon.in/Fabme-Unisexs-Headband-P...       5   \n",
      "2       https://www.amazon.in/Fashion-Sneakers-Lace-Up...    None   \n",
      "3       https://www.amazon.in/HISTORICAL-INDIA-Gwalior...     4.4   \n",
      "4       https://www.amazon.in/Sonata-Safety-Analog-Wom...       3   \n",
      "...                                                   ...     ...   \n",
      "100887  https://www.amazon.in/Lorenz-MK-4849A-Combo-Bl...     3.5   \n",
      "100888  https://www.amazon.in/Campus-Rampage-R-Slate-R...       4   \n",
      "100889  https://www.amazon.in/Sri-jagdamaba-pearls-Yel...    None   \n",
      "100890  https://www.amazon.in/mitushi-products-Shorts-...     4.1   \n",
      "100891  https://www.amazon.in/Gold-Look-Womens-Rolepla...       4   \n",
      "\n",
      "       no_of_ratings discount_price actual_price Unnamed: 0  \n",
      "0               None           ₹399         ₹999             \n",
      "1                  1           ₹265         ₹999     1110.0  \n",
      "2               None                                         \n",
      "3                 40           ₹670       ₹1,500             \n",
      "4                 22                      ₹3,040             \n",
      "...              ...            ...          ...        ...  \n",
      "100887            40           ₹319       ₹1,999     7707.0  \n",
      "100888            31         ₹1,949       ₹2,799             \n",
      "100889          None      ₹1,46,905    ₹1,60,260             \n",
      "100890           143           ₹400         ₹450             \n",
      "100891             1           ₹499       ₹1,299    15896.0  \n",
      "\n",
      "[100892 rows x 10 columns]\n"
     ]
    }
   ],
   "source": [
    "# Query SQL\n",
    "query = \"SELECT * FROM amazon_sales_data;\"\n",
    "\n",
    "try:\n",
    "    # Menggunakan pandas read_sql untuk menjalankan query dan memasukkan hasil ke DataFrame\n",
    "    df = pd.read_sql(query, engine)\n",
    "    print(\"Koneksi berhasil dan data berhasil di-load:\")\n",
    "    print(df)\n",
    "except Exception as e:\n",
    "    print(\"Koneksi gagal:\", e)"
   ]
  },
  {
   "cell_type": "markdown",
   "metadata": {},
   "source": [
    "# Data validasi"
   ]
  },
  {
   "cell_type": "markdown",
   "metadata": {},
   "source": [
    "## Cek Shape data"
   ]
  },
  {
   "cell_type": "code",
   "execution_count": 4,
   "metadata": {},
   "outputs": [
    {
     "name": "stdout",
     "output_type": "stream",
     "text": [
      "Data sales_data has 100892 rows and 10 columns\n"
     ]
    }
   ],
   "source": [
    "def check_shape_data(df,nama_tabel):\n",
    "    rows_amount = df.shape[0]\n",
    "    columns_amount = df.shape[1]\n",
    "\n",
    "    print(f'Data {nama_tabel} has {rows_amount} rows and {columns_amount} columns')\n",
    "\n",
    "check_shape_data(df,data_name)\n"
   ]
  },
  {
   "cell_type": "markdown",
   "metadata": {},
   "source": [
    "## Cek tipe data"
   ]
  },
  {
   "cell_type": "code",
   "execution_count": 18,
   "metadata": {},
   "outputs": [
    {
     "name": "stdout",
     "output_type": "stream",
     "text": [
      "Each column in sales_data has the following data types:\n",
      "\n",
      "Column `name` has data type object\n",
      "Column `main_category` has data type object\n",
      "Column `sub_category` has data type object\n",
      "Column `image` has data type object\n",
      "Column `link` has data type object\n",
      "Column `ratings` has data type object\n",
      "Column `no_of_ratings` has data type object\n",
      "Column `discount_price` has data type object\n",
      "Column `actual_price` has data type object\n",
      "Column `Unnamed: 0` has data type object\n"
     ]
    }
   ],
   "source": [
    "def check_type_data(df, table_name):\n",
    "    print(f'Each column in {table_name} has the following data types:\\n')\n",
    "    for column in df.columns:\n",
    "        print(f'Column `{column}` has data type {df[column].dtype}')\n",
    "\n",
    "check_type_data(df, data_name)\n"
   ]
  },
  {
   "cell_type": "markdown",
   "metadata": {},
   "source": [
    "## Check missing value"
   ]
  },
  {
   "cell_type": "code",
   "execution_count": 19,
   "metadata": {},
   "outputs": [
    {
     "name": "stdout",
     "output_type": "stream",
     "text": [
      "Each column in `sales_data` has the following number of missing values:\n",
      "\n",
      "Column `name` has 0 or 0.0% missing values\n",
      "Column `main_category` has 0 or 0.0% missing values\n",
      "Column `sub_category` has 0 or 0.0% missing values\n",
      "Column `image` has 0 or 0.0% missing values\n",
      "Column `link` has 0 or 0.0% missing values\n",
      "Column `ratings` has 262 or 0.3% missing values\n",
      "Column `no_of_ratings` has 262 or 0.3% missing values\n",
      "Column `discount_price` has 0 or 0.0% missing values\n",
      "Column `actual_price` has 0 or 0.0% missing values\n",
      "Column `Unnamed: 0` has 0 or 0.0% missing values\n"
     ]
    }
   ],
   "source": [
    "def check_missing_values(df, table_name):\n",
    "    print(f'Each column in `{table_name}` has the following number of missing values:\\n')\n",
    "    for column in df.columns:\n",
    "        missing_values = df[column].isnull().sum()\n",
    "        percentage_missing_values = round(missing_values/len(df)*100,1)\n",
    "        print(f'Column `{column}` has {missing_values} or {percentage_missing_values}% missing values')\n",
    "\n",
    "check_missing_values(df, data_name)\n"
   ]
  },
  {
   "cell_type": "markdown",
   "metadata": {},
   "source": [
    "## Check duplicate"
   ]
  },
  {
   "cell_type": "code",
   "execution_count": 20,
   "metadata": {},
   "outputs": [
    {
     "name": "stdout",
     "output_type": "stream",
     "text": [
      "`sales_data` has 643 duplicate entries\n"
     ]
    }
   ],
   "source": [
    "def check_duplicates(df, table_name):\n",
    "    duplicate_count = len(df[df.duplicated()])\n",
    "    print(f\"`{table_name}` has {duplicate_count} duplicate entries\")\n",
    "\n",
    "check_duplicates(df, data_name)\n"
   ]
  },
  {
   "cell_type": "markdown",
   "metadata": {},
   "source": [
    "## Check unique values"
   ]
  },
  {
   "cell_type": "code",
   "execution_count": 24,
   "metadata": {},
   "outputs": [
    {
     "name": "stdout",
     "output_type": "stream",
     "text": [
      "Each column in `sales_data` has the following number of missing values:\n",
      "\n",
      "Jumlah unique values pada kolom `name` adalah sebanyak : 84713\n",
      "\n",
      "Jumlah unique values pada kolom `main_category `adalah sebanyak : 20 yaitu : \n",
      " [\"women's clothing\" 'sports & fitness' \"men's shoes\" 'accessories'\n",
      " \"men's clothing\" 'beauty & health' 'bags & luggage' 'appliances'\n",
      " 'tv, audio & cameras' 'car & motorbike' \"women's shoes\" 'home & kitchen'\n",
      " 'stores' 'pet supplies' 'industrial supplies' \"kids' fashion\"\n",
      " 'toys & baby products' 'grocery & gourmet foods' 'music'\n",
      " 'home, kitchen, pets']\n",
      "\n",
      "Jumlah unique values pada kolom `sub_category` adalah sebanyak : 112\n",
      "\n",
      "Jumlah unique values pada kolom `image` adalah sebanyak : 90428\n",
      "\n",
      "Jumlah unique values pada kolom `link` adalah sebanyak : 95441\n",
      "\n",
      "Jumlah unique values pada kolom `ratings `adalah sebanyak : 52 yaitu : \n",
      " [None '5' '4.4' '3' '4.5' '3.4' '1' '4.1' '3.8' '3.5' '3.7' '4' '3.2'\n",
      " '3.9' '2.5' '2.3' '3.6' '4.3' '2.9' '3.3' '4.2' '2' '4.7' '3.1' '4.6'\n",
      " '2.8' '2.1' '1.4' '2.7' '2.4' '1.8' '' '5.0' '1.0' '3.0' '4.0' '2.0'\n",
      " 'Get' '4.8' 'FREE' '1.5' '4.9' '2.6' '2.2' '1.9' '1.7' '₹70' '1.6' '1.3'\n",
      " '1.2' '₹65' '₹99']\n",
      "\n",
      "Jumlah unique values pada kolom `no_of_ratings` adalah sebanyak : 4205\n",
      "\n",
      "Jumlah unique values pada kolom `discount_price` adalah sebanyak : 9812\n",
      "\n",
      "Jumlah unique values pada kolom `actual_price` adalah sebanyak : 8327\n",
      "\n",
      "Jumlah unique values pada kolom `Unnamed: 0` adalah sebanyak : 16929\n",
      "\n"
     ]
    }
   ],
   "source": [
    "def check_unique_values(df,table_name):\n",
    "    print(f'Each column in `{table_name}` has the following number of missing values:\\n')\n",
    "    for column in df.columns:\n",
    "        unique_values = df[column].unique()\n",
    "        if len(unique_values)<=100:\n",
    "            print(f'''Jumlah unique values pada kolom `{column} `adalah sebanyak : {len(unique_values)} yaitu : \\n {unique_values}\\n''')\n",
    "        else:\n",
    "            print(f'''Jumlah unique values pada kolom `{column}` adalah sebanyak : {len(unique_values)}\\n''')\n",
    "\n",
    "check_unique_values(df, data_name)\n"
   ]
  },
  {
   "cell_type": "markdown",
   "metadata": {},
   "source": [
    "## Wrapped all Validations"
   ]
  },
  {
   "cell_type": "code",
   "execution_count": 4,
   "metadata": {},
   "outputs": [
    {
     "name": "stdout",
     "output_type": "stream",
     "text": [
      "========== Start sales_data Pipeline Validation ==========\n",
      "CHECKING SHAPE DATA\n",
      "Data sales_data has 100892 rows and 10 columns\n",
      "\n",
      "CHECKING DATA TYPE\n",
      "Each column in sales_data has the following data types:\n",
      "\n",
      "Column `name` has data type object\n",
      "Column `main_category` has data type object\n",
      "Column `sub_category` has data type object\n",
      "Column `image` has data type object\n",
      "Column `link` has data type object\n",
      "Column `ratings` has data type object\n",
      "Column `no_of_ratings` has data type object\n",
      "Column `discount_price` has data type object\n",
      "Column `actual_price` has data type object\n",
      "Column `Unnamed: 0` has data type object\n",
      "\n",
      "CHECKING MISSING DATA\n",
      "Each column in `sales_data` has the following number of missing values:\n",
      "\n",
      "Column `name` has 0 or 0.0% missing values\n",
      "Column `main_category` has 0 or 0.0% missing values\n",
      "Column `sub_category` has 0 or 0.0% missing values\n",
      "Column `image` has 0 or 0.0% missing values\n",
      "Column `link` has 0 or 0.0% missing values\n",
      "Column `ratings` has 262 or 0.3% missing values\n",
      "Column `no_of_ratings` has 262 or 0.3% missing values\n",
      "Column `discount_price` has 0 or 0.0% missing values\n",
      "Column `actual_price` has 0 or 0.0% missing values\n",
      "Column `Unnamed: 0` has 0 or 0.0% missing values\n",
      "\n",
      "CHECKING DATA DUPLICATES\n",
      "`sales_data` has 643 duplicate entries \n",
      "\n",
      "CHECKING UNIQUE VALUES\n",
      "Each column in `sales_data` has the following number of missing values:\n",
      "\n",
      "Jumlah unique values pada kolom `name` adalah sebanyak : 84713\n",
      "\n",
      "Jumlah unique values pada kolom `main_category `adalah sebanyak : 20 yaitu : \n",
      " [\"women's clothing\" 'sports & fitness' \"men's shoes\" 'accessories'\n",
      " \"men's clothing\" 'beauty & health' 'bags & luggage' 'appliances'\n",
      " 'tv, audio & cameras' 'car & motorbike' \"women's shoes\" 'home & kitchen'\n",
      " 'stores' 'pet supplies' 'industrial supplies' \"kids' fashion\"\n",
      " 'toys & baby products' 'grocery & gourmet foods' 'music'\n",
      " 'home, kitchen, pets']\n",
      "\n",
      "Jumlah unique values pada kolom `sub_category` adalah sebanyak : 112\n",
      "\n",
      "Jumlah unique values pada kolom `image` adalah sebanyak : 90428\n",
      "\n",
      "Jumlah unique values pada kolom `link` adalah sebanyak : 95441\n",
      "\n",
      "Jumlah unique values pada kolom `ratings `adalah sebanyak : 52 yaitu : \n",
      " [None '5' '4.4' '3' '4.5' '3.4' '1' '4.1' '3.8' '3.5' '3.7' '4' '3.2'\n",
      " '3.9' '2.5' '2.3' '3.6' '4.3' '2.9' '3.3' '4.2' '2' '4.7' '3.1' '4.6'\n",
      " '2.8' '2.1' '1.4' '2.7' '2.4' '1.8' '' '5.0' '1.0' '3.0' '4.0' '2.0'\n",
      " 'Get' '4.8' 'FREE' '1.5' '4.9' '2.6' '2.2' '1.9' '1.7' '₹70' '1.6' '1.3'\n",
      " '1.2' '₹65' '₹99']\n",
      "\n",
      "Jumlah unique values pada kolom `no_of_ratings` adalah sebanyak : 4205\n",
      "\n",
      "Jumlah unique values pada kolom `discount_price` adalah sebanyak : 9812\n",
      "\n",
      "Jumlah unique values pada kolom `actual_price` adalah sebanyak : 8327\n",
      "\n",
      "Jumlah unique values pada kolom `Unnamed: 0` adalah sebanyak : 16929\n",
      "\n",
      "========== End Pipeline Validation ==========\n"
     ]
    }
   ],
   "source": [
    "validation_process(df, data_name)"
   ]
  },
  {
   "cell_type": "markdown",
   "metadata": {},
   "source": [
    "# Cleaning"
   ]
  },
  {
   "cell_type": "markdown",
   "metadata": {},
   "source": [
    "## Handle Missing Value"
   ]
  },
  {
   "cell_type": "code",
   "execution_count": 41,
   "metadata": {},
   "outputs": [],
   "source": [
    "import numpy as np\n",
    "df['ratings'] = df['ratings'].fillna(0)\n",
    "\n",
    "def cleaning_no_ratings(no_ratings):\n",
    "    try:\n",
    "        no_ratings = int(no_ratings.replace(',','.'))\n",
    "        return no_ratings\n",
    "    except:\n",
    "        return np.NaN\n",
    "df['no_of_ratings'] = df['no_of_ratings'].apply(cleaning_no_ratings)"
   ]
  },
  {
   "cell_type": "code",
   "execution_count": 43,
   "metadata": {},
   "outputs": [],
   "source": [
    "#Remove currency value in price\n",
    "df['actual_price'] = df['actual_price'].str.replace('₹', '').str.replace(',', '').replace('', float('nan')).astype('float')\n",
    "df['discount_price'] = df['discount_price'].str.replace('₹', '').str.replace(',', '').replace('', float('nan')).astype('float')\n",
    "\n"
   ]
  },
  {
   "cell_type": "code",
   "execution_count": 39,
   "metadata": {},
   "outputs": [
    {
     "data": {
      "text/plain": [
       "array(['₹', nan], dtype=object)"
      ]
     },
     "execution_count": 39,
     "metadata": {},
     "output_type": "execute_result"
    }
   ],
   "source": [
    "df['actual_price'].str[0].unique()"
   ]
  }
 ],
 "metadata": {
  "kernelspec": {
   "display_name": "Python 3",
   "language": "python",
   "name": "python3"
  },
  "language_info": {
   "codemirror_mode": {
    "name": "ipython",
    "version": 3
   },
   "file_extension": ".py",
   "mimetype": "text/x-python",
   "name": "python",
   "nbconvert_exporter": "python",
   "pygments_lexer": "ipython3",
   "version": "3.11.4"
  }
 },
 "nbformat": 4,
 "nbformat_minor": 2
}

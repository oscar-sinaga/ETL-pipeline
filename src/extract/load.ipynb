{
 "cells": [
  {
   "cell_type": "code",
   "execution_count": 1,
   "metadata": {},
   "outputs": [],
   "source": [
    "import sys\n",
    "import os\n",
    "from sqlalchemy import text\n",
    "import pandas as pd\n",
    "import numpy as np\n",
    "# Menambahkan folder project ke sys.path\n",
    "sys.path.append(os.path.abspath(os.path.join('../..')))\n",
    "from src.helper.db_connector_sales_data_raw import postgres_engine_sales_data\n",
    "from src.validation.validate_data import validation_process \n",
    "# Menggunakan fungsi\n",
    "engine = postgres_engine_sales_data()\n",
    "data_name = 'sales_data'\n"
   ]
  },
  {
   "cell_type": "code",
   "execution_count": null,
   "metadata": {},
   "outputs": [],
   "source": []
  }
 ],
 "metadata": {
  "kernelspec": {
   "display_name": "Python 3",
   "language": "python",
   "name": "python3"
  },
  "language_info": {
   "codemirror_mode": {
    "name": "ipython",
    "version": 3
   },
   "file_extension": ".py",
   "mimetype": "text/x-python",
   "name": "python",
   "nbconvert_exporter": "python",
   "pygments_lexer": "ipython3",
   "version": "3.11.4"
  }
 },
 "nbformat": 4,
 "nbformat_minor": 2
}
